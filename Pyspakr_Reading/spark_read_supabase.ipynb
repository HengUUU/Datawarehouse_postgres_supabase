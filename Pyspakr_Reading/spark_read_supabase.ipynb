{
 "cells": [
  {
   "cell_type": "code",
   "execution_count": 52,
   "id": "13209394",
   "metadata": {},
   "outputs": [],
   "source": [
    "import findspark\n",
    "findspark.init()"
   ]
  },
  {
   "cell_type": "code",
   "execution_count": 53,
   "id": "6dc02c61",
   "metadata": {},
   "outputs": [],
   "source": [
    "from pyspark.sql import SparkSession"
   ]
  },
  {
   "cell_type": "code",
   "execution_count": 54,
   "id": "c7c03150",
   "metadata": {},
   "outputs": [],
   "source": [
    "# Configure spark session\n",
    "spark = SparkSession\\\n",
    "    .builder\\\n",
    "    .master('local[2]')\\\n",
    "    .appName('myapp')\\\n",
    "    .config('spark.jars.packages', 'org.postgresql:postgresql:42.2.24')\\\n",
    "    .getOrCreate()"
   ]
  },
  {
   "cell_type": "code",
   "execution_count": 55,
   "id": "fc7f2afe",
   "metadata": {},
   "outputs": [],
   "source": [
    "# Read data from PostgreSQL\n",
    "Data = spark.read.format('jdbc').\\\n",
    "            option('url', \"jdbc:postgresql://aws-0-ap-southeast-1.pooler.supabase.com:6543/postgres\")\\\n",
    "            .option('driver', 'org.postgresql.Driver')\\\n",
    "            .option('user', 'postgres.jzkaxlaliskhwflvpiwi')\\\n",
    "            .option('password', '123heng@#123')\\\n",
    "            .option('dbtable', 'bronze.dataset')\\\n",
    "            .load()"
   ]
  },
  {
   "cell_type": "code",
   "execution_count": 56,
   "id": "48294bd7",
   "metadata": {},
   "outputs": [
    {
     "data": {
      "text/plain": [
       "1099"
      ]
     },
     "execution_count": 56,
     "metadata": {},
     "output_type": "execute_result"
    }
   ],
   "source": [
    "Data.count()\n"
   ]
  },
  {
   "cell_type": "code",
   "execution_count": null,
   "id": "5019215b",
   "metadata": {},
   "outputs": [],
   "source": []
  }
 ],
 "metadata": {
  "kernelspec": {
   "display_name": "Python 3",
   "language": "python",
   "name": "python3"
  },
  "language_info": {
   "codemirror_mode": {
    "name": "ipython",
    "version": 3
   },
   "file_extension": ".py",
   "mimetype": "text/x-python",
   "name": "python",
   "nbconvert_exporter": "python",
   "pygments_lexer": "ipython3",
   "version": "3.11.5"
  }
 },
 "nbformat": 4,
 "nbformat_minor": 5
}
